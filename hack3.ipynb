{
 "cells": [
  {
   "cell_type": "code",
   "execution_count": 46,
   "metadata": {},
   "outputs": [],
   "source": [
    "import string, os, sys\n",
    "import numpy as np\n",
    "import imageio\n",
    "import cv2\n",
    "import matplotlib.pyplot as plt\n",
    "import matplotlib.image as mpimg\n",
    "from PIL import Image\n",
    "from sklearn.neighbors import KNeighborsClassifier\n",
    "from sklearn import neighbors,metrics, linear_model, svm\n",
    "from sklearn.cross_validation import train_test_split\n",
    "from sklearn.metrics import accuracy_score\n",
    "\n"
   ]
  },
  {
   "cell_type": "code",
   "execution_count": 47,
   "metadata": {},
   "outputs": [],
   "source": [
    "train_ind=[]\n",
    "label_ind=[]\n",
    "global file_dir\n",
    "file_dir=''\n",
    "def train_images(filepath):\n",
    "    files = os.listdir(filepath)\n",
    "    for fi in files:\n",
    "        fi_d = os.path.join(filepath,fi) \n",
    "        if os.path.isdir(fi_d):\n",
    "            global file_dir\n",
    "            file_dir = fi  \n",
    "            train_images(fi_d)\n",
    "        else:\n",
    "            path = os.path.join(filepath,fi_d)\n",
    "            res=cv2.imread(path)\n",
    "            train_ind.append(res)\n",
    "            label_ind.append(file_dir)\n",
    "        \n",
    "\n",
    "        "
   ]
  },
  {
   "cell_type": "code",
   "execution_count": 48,
   "metadata": {},
   "outputs": [
    {
     "name": "stdout",
     "output_type": "stream",
     "text": [
      "0.8388017118402282\n"
     ]
    }
   ],
   "source": [
    "train_images('/home/contoso/notebooks/XRCode/dest')\n",
    "n_samples = len(train_ind)\n",
    "data = np.array(train_ind).reshape((n_samples, -1))\n",
    "\n",
    "X, y = data, label_ind\n",
    "X_train, X_test, y_train, y_test = train_test_split( X, y, test_size=0.33, random_state=42)\n",
    "\n",
    "#classifier = svm.SVC(gamma=0.001)\n",
    "#classifier.fit(data[n_samples-1].reshape(1, -1), label_ind[n_samples-1])\n",
    "\n",
    "neigh = KNeighborsClassifier(n_neighbors=5)\n",
    "neigh.fit(X_train, y_train) \n",
    "pred = neigh.predict(X_test)\n",
    "\n",
    "# evaluate accuracy\n",
    "print(accuracy_score(y_test, pred))\n",
    "\n",
    "#print(neigh.score)\n",
    "\n",
    "#train_images('/home/contoso/notebooks/XRCode/predict')\n",
    "# predict the response\n",
    "#print(neigh.predict(np.array(train_ind[len(train_ind)-1]).reshape((1, -1))))\n",
    "\n",
    "# evaluate accuracy\n",
    "#print(accuracy_score(label_ind, pred))\n",
    "\n",
    "#res=cv2.imread('/home/contoso/notebooks/XRCode/predict/output.png')\n",
    "#predict_ind=[]\n",
    "#predict_ind.append(res)\n",
    "#print(neigh.predict(np.array(predict_ind).reshape((1, -1))))"
   ]
  },
  {
   "cell_type": "code",
   "execution_count": null,
   "metadata": {},
   "outputs": [],
   "source": []
  },
  {
   "cell_type": "code",
   "execution_count": null,
   "metadata": {},
   "outputs": [],
   "source": []
  }
 ],
 "metadata": {
  "kernelspec": {
   "display_name": "Python 3",
   "language": "python",
   "name": "python3"
  },
  "language_info": {
   "codemirror_mode": {
    "name": "ipython",
    "version": 3
   },
   "file_extension": ".py",
   "mimetype": "text/x-python",
   "name": "python",
   "nbconvert_exporter": "python",
   "pygments_lexer": "ipython3",
   "version": "3.5.4"
  }
 },
 "nbformat": 4,
 "nbformat_minor": 2
}
